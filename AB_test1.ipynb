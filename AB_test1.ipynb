{
 "cells": [
  {
   "cell_type": "markdown",
   "id": "72f19377-779b-44a5-9a6e-373f5c2ce574",
   "metadata": {},
   "source": [
    "## A/B Testing: A Practical Walkthrough with a Simulated Case"
   ]
  },
  {
   "cell_type": "markdown",
   "id": "ad7091c5-8c29-4e91-bfc9-8060a9046443",
   "metadata": {},
   "source": [
    "In this notebook we'll go over the process of analysing an A/B test with a simulated dataset. Typically an A/B Test a multiple step experimentation starting with formulating a hypothesis, testing it, checking its statistically and practically significance and finally interpreting results. For our data, we'll use a dataset from Kaggle which contains the results of an A/B test on what seems to be 2 different variants of a button (old_design vs. new_design). Here's what we'll do:\n",
    "\n",
    "1. [Designing our experiment](#1.-Designing-our-experiment)\n",
    "2. [Collecting and preparing the data](#2.-Collecting-and-preparing-the-data)\n",
    "3. [Visualising the results](#3.-Visualising-the-results)\n",
    "4. [Testing the hypothesis](#4.-Testing-the-hypothesis)\n",
    "5. [Drawing conclusions](#5.-Conclusion)\n",
    "\n",
    "\n",
    "To make it a bit more realistic, here's a **potential case** for our experimentation:\n",
    ">Let's imagine you work on the product team at a medium-sized **online e-commerce business**. The UX designer worked really hard on a new version of the check-out button, with the objective that it will lead to a higher conversion rate(or in simpler terms: will increase the revenue). The product manager told you that the **current conversion rate is about 3.0%** on average throughout the year, and that the team would be happy with an **increase of 1.5%**, meaning that the new design will be launched if it **raises** the conversion rate to 4.5%.\n",
    "\n",
    "Ahead of deploying the change, the team would be more comfortable testing it on a small number of users(determined by **power analysis**) to see how it performs, so you suggest running an A/B test on a subset of your user base users(out of the 20k data collected say)."
   ]
  },
  {
   "cell_type": "markdown",
   "id": "a81842a3-77be-4ead-9ac6-0089f1d66da4",
   "metadata": {},
   "source": [
    "***\n",
    "## 1. Designing our experiment"
   ]
  },
  {
   "cell_type": "markdown",
   "id": "b14b4006-e274-4cdb-b7c4-52ea1eac3977",
   "metadata": {},
   "source": [
    "### Formulating a hypothesis\n",
    "\n",
    "Firstly, we need to formulate a hypothesis at the start of our project. This will make sure our interpretation of the results is correct as well as rigorous.\n",
    "\n",
    "Given we don't know if the new design will perform better or worse (or the same?) as our current design, we'll choose a <a href=\"https://en.wikipedia.org/wiki/One-_and_two-tailed_tests\">**two-tailed test**</a>:\n",
    "\n",
    "$$H_0: p = p_0$$\n",
    "$$H_a: p \\ne p_0$$\n",
    "\n",
    "where $p$ and $p_0$ stand for the conversion rate of the new and old design, respectively. We'll also set a **confidence level of 95%**:\n",
    "\n",
    "$$\\alpha = 0.05$$\n",
    "\n",
    "The $\\alpha$ value is a threshold we set, by which we say \"if the probability of observing a result as extreme or more ($p$-value) is lower than $\\alpha$, then we reject the null hypothesis\". Since our $\\alpha=0.05$ (indicating 5% probability), our confidence (1 - $\\alpha$) is 95%.\n",
    "\n",
    "Don't worry if you are not familiar with the above, all this really means is that whatever conversion rate we observe for our new design in our test, we want to be 95% confident it is statistically different from the conversion rate of our old design, before we decide to reject the Null hypothesis $H_0$. "
   ]
  },
  {
   "cell_type": "markdown",
   "id": "bceb26ef-2a26-4ba5-b25d-5e8ca5274d10",
   "metadata": {},
   "source": [
    "### Choosing the variables\n",
    "\n",
    "For our test we'll need **two groups**:\n",
    "* A `control` group - They'll be shown the old design\n",
    "* A `treatment` (or experimental) group - They'll be shown the new design\n",
    "\n",
    "This will be our *Independent Variable*. The reason we have two groups even though we know the baseline conversion rate is that we want to control for other variables that could have an effect on our results, such as seasonality: by having a `control` group we can directly compare their results to the `treatment` group, because the only systematic difference between the groups is the design of the product page, and we can therefore attribute any differences in results to the designs.\n",
    "\n",
    "For our *Dependent Variable* (i.e. what we are trying to measure), we are interested in capturing the `conversion rate`. A way we can code this is by  each user session with a binary variable:\n",
    "* `0` - The user did not buy the product during this user session\n",
    "* `1` - The user bought the product during this user session\n",
    "\n",
    "This way, we can easily calculate the mean for each group to get the conversion rate of each design."
   ]
  },
  {
   "cell_type": "markdown",
   "id": "fc4565d5-d3cf-417b-9ed4-9887684fae27",
   "metadata": {},
   "source": [
    "### Choosing a sample size\n",
    "\n",
    "It is important to note that since we won't test the whole user base (our <a href=\"https://www.bmj.com/about-bmj/resources-readers/publications/statistics-square-one/3-populations-and-samples\">population</a>), the conversion rates that we'll get will inevitably be only *estimates* of the true rates.\n",
    "\n",
    "The number of people (or user sessions) we decide to capture in each group will have an effect on the precision of our estimated conversion rates: **the larger the sample size**, the more precise our estimates (i.e. the smaller our confidence intervals), **the higher the chance to detect a difference** in the two groups, if present.\n",
    "\n",
    "On the other hand, the larger our sample gets, the more expensive (and impractical) our study becomes.\n",
    "\n",
    "*So how many people should we have in each group?*\n",
    "\n",
    "The sample size we need is estimated through something called <a href=\"https://research.usu.edu//irb/wp-content/uploads/sites/12/2015/08/A_Researchers_Guide_to_Power_Analysis_USU.pdf\">*Power analysis*</a>, and it depends on a few factors:\n",
    "* **Power of the test** ($1 - \\beta$) - This represents the probability of finding a statistical difference between the groups in our test when a difference is actually present. This is usually set at 0.8 as a convention (here's more info on <a href=\"https://en.wikipedia.org/wiki/Power_of_a_test\">statistical power</a>, if you are curious)\n",
    "* **Alpha value** ($\\alpha$) - The critical value we set earlier to 0.05\n",
    "* **Effect size** - How big of a difference we expect there to be between the conversion rates\n",
    "\n",
    "Since our team would be happy with a difference of 1.5%, we can use 3.0% and 4.5% to calculate the effect size we expect. \n",
    "\n",
    "Luckily, **Python takes care of all these calculations for us**:"
   ]
  },
  {
   "cell_type": "code",
   "execution_count": 1,
   "id": "e2ba4b0e-4764-49ef-981f-67fc9ab8e812",
   "metadata": {},
   "outputs": [],
   "source": [
    "# Packages imports\n",
    "import pandas as pd\n",
    "import numpy as np\n",
    "import seaborn as sns\n",
    "import statsmodels.stats.api as sms\n",
    "import scipy.stats as stats\n",
    "import matplotlib as mpl\n",
    "import matplotlib.pyplot as plt\n",
    "from math import ceil\n",
    "\n",
    "%matplotlib inline"
   ]
  },
  {
   "cell_type": "code",
   "execution_count": 2,
   "id": "3173174f-d4eb-410f-b045-22e494dc2033",
   "metadata": {},
   "outputs": [
    {
     "name": "stdout",
     "output_type": "stream",
     "text": [
      "We would need at least 2494 observations for each group,i.e., 4988 in total.\n"
     ]
    }
   ],
   "source": [
    "effect_size = sms.proportion_effectsize(0.03, 0.045)    # Calculating effect size based on our expected rates\n",
    "required_n = sms.NormalIndPower().solve_power(\n",
    "    effect_size,\n",
    "    power = 0.8,\n",
    "    alpha = 0.05,\n",
    "    ratio = 1\n",
    ")                           # Calculating sample size needed\n",
    "\n",
    "n = ceil(required_n)        # Rounding up to next whole number\n",
    "print(f'We would need at least {n} observations for each group,i.e., {n*2} in total.')"
   ]
  },
  {
   "cell_type": "markdown",
   "id": "7200bbfe-ef13-4e78-a293-ca7b6e699e7a",
   "metadata": {},
   "source": [
    "Having set the `power` parameter to 0.8 in practice means that if there exists an actual difference in conversion rate between our designs, assuming the difference is the one we estimated (3.0% vs. 4.5%), we have about 80% chance to detect it as statistically significant in our test with the sample size we calculated."
   ]
  },
  {
   "cell_type": "markdown",
   "id": "6e21a0a7-95b2-4569-a3cb-e60b5ced7f7e",
   "metadata": {},
   "source": [
    "***\n",
    "## 2. Collecting and preparing the data"
   ]
  },
  {
   "cell_type": "markdown",
   "id": "534ffe5a-e4cb-42e0-a97e-3aa452a28f88",
   "metadata": {},
   "source": [
    "Now that we have our required sample size, we need to collect the data. Usually at this point we need to work with our team to set up the experiment, likely with the help of the Engineering team, and make sure that you collect enough data based on the sample size needed.\n",
    "\n",
    "However, since we'll use a synthetic dataset that is available online, in order to simulate this situation we'll:\n",
    "1. Download it\n",
    "2. Read the data into a pandas DataFrame\n",
    "3. Check and clean the data as needed\n",
    "4. Randomly sample `n=2494` rows from the DataFrame for each group *****\n",
    "\n",
    "***Note**: Normally, we would not need to perform step 4, this is just for the sake of the exercise\n",
    "\n",
    "Since I already downloaded the dataset, I'll go straight to number 2."
   ]
  },
  {
   "cell_type": "markdown",
   "id": "0d826fba-150f-4639-8d0c-7a3d9431bf3f",
   "metadata": {},
   "source": [
    "**You can find the dataset used for this analysis on Kaggle:** [A/B Testing Mock Dataset](https://www.kaggle.com/datasets/tathagatachowdhury09/ab-testing-for-button-color-variants-dataset)."
   ]
  },
  {
   "cell_type": "code",
   "execution_count": 3,
   "id": "021c1f29-ddbd-4313-82fc-d8eed6885f74",
   "metadata": {},
   "outputs": [
    {
     "data": {
      "text/html": [
       "<div>\n",
       "<style scoped>\n",
       "    .dataframe tbody tr th:only-of-type {\n",
       "        vertical-align: middle;\n",
       "    }\n",
       "\n",
       "    .dataframe tbody tr th {\n",
       "        vertical-align: top;\n",
       "    }\n",
       "\n",
       "    .dataframe thead th {\n",
       "        text-align: right;\n",
       "    }\n",
       "</style>\n",
       "<table border=\"1\" class=\"dataframe\">\n",
       "  <thead>\n",
       "    <tr style=\"text-align: right;\">\n",
       "      <th></th>\n",
       "      <th>User_ID</th>\n",
       "      <th>Variant</th>\n",
       "      <th>Clicks</th>\n",
       "      <th>Conversions</th>\n",
       "    </tr>\n",
       "  </thead>\n",
       "  <tbody>\n",
       "    <tr>\n",
       "      <th>0</th>\n",
       "      <td>2721</td>\n",
       "      <td>A</td>\n",
       "      <td>3</td>\n",
       "      <td>0</td>\n",
       "    </tr>\n",
       "    <tr>\n",
       "      <th>1</th>\n",
       "      <td>2241</td>\n",
       "      <td>A</td>\n",
       "      <td>2</td>\n",
       "      <td>0</td>\n",
       "    </tr>\n",
       "    <tr>\n",
       "      <th>2</th>\n",
       "      <td>9808</td>\n",
       "      <td>A</td>\n",
       "      <td>16</td>\n",
       "      <td>0</td>\n",
       "    </tr>\n",
       "    <tr>\n",
       "      <th>3</th>\n",
       "      <td>3804</td>\n",
       "      <td>A</td>\n",
       "      <td>3</td>\n",
       "      <td>0</td>\n",
       "    </tr>\n",
       "    <tr>\n",
       "      <th>4</th>\n",
       "      <td>4391</td>\n",
       "      <td>A</td>\n",
       "      <td>9</td>\n",
       "      <td>0</td>\n",
       "    </tr>\n",
       "  </tbody>\n",
       "</table>\n",
       "</div>"
      ],
      "text/plain": [
       "   User_ID Variant  Clicks  Conversions\n",
       "0     2721       A       3            0\n",
       "1     2241       A       2            0\n",
       "2     9808       A      16            0\n",
       "3     3804       A       3            0\n",
       "4     4391       A       9            0"
      ]
     },
     "execution_count": 3,
     "metadata": {},
     "output_type": "execute_result"
    }
   ],
   "source": [
    "df = pd.read_csv('/kaggle/input/<your-dataset-folder-name>/ab_data.csv')\n",
    "df.head()"
   ]
  },
  {
   "cell_type": "code",
   "execution_count": 4,
   "id": "f8509573-5c0f-47da-afbf-3170ecd8cc9d",
   "metadata": {},
   "outputs": [
    {
     "name": "stdout",
     "output_type": "stream",
     "text": [
      "<class 'pandas.core.frame.DataFrame'>\n",
      "RangeIndex: 20000 entries, 0 to 19999\n",
      "Data columns (total 4 columns):\n",
      " #   Column       Non-Null Count  Dtype \n",
      "---  ------       --------------  ----- \n",
      " 0   User_ID      20000 non-null  int64 \n",
      " 1   Variant      20000 non-null  object\n",
      " 2   Clicks       20000 non-null  int64 \n",
      " 3   Conversions  20000 non-null  int64 \n",
      "dtypes: int64(3), object(1)\n",
      "memory usage: 625.1+ KB\n"
     ]
    }
   ],
   "source": [
    "df.info()"
   ]
  },
  {
   "cell_type": "code",
   "execution_count": 5,
   "id": "be8d0122-041b-4a7f-b8c9-7d8203e83ade",
   "metadata": {},
   "outputs": [
    {
     "data": {
      "text/plain": [
       "User_ID        0\n",
       "Variant        0\n",
       "Clicks         0\n",
       "Conversions    0\n",
       "dtype: int64"
      ]
     },
     "execution_count": 5,
     "metadata": {},
     "output_type": "execute_result"
    }
   ],
   "source": [
    "df.isnull().sum() # Checking for missing values"
   ]
  },
  {
   "cell_type": "code",
   "execution_count": 6,
   "id": "30cf2aaa-89b4-4e52-92ff-363e7b8a44ee",
   "metadata": {},
   "outputs": [
    {
     "data": {
      "text/plain": [
       "20000"
      ]
     },
     "execution_count": 6,
     "metadata": {},
     "output_type": "execute_result"
    }
   ],
   "source": [
    "# To see if there is any duplicate User_ID\n",
    "df[\"User_ID\"].nunique()"
   ]
  },
  {
   "cell_type": "code",
   "execution_count": 7,
   "id": "6536adf9-6fae-4c9e-ab85-f2849e2607d1",
   "metadata": {},
   "outputs": [
    {
     "data": {
      "text/plain": [
       "(20000, 4)"
      ]
     },
     "execution_count": 7,
     "metadata": {},
     "output_type": "execute_result"
    }
   ],
   "source": [
    "df.shape"
   ]
  },
  {
   "cell_type": "code",
   "execution_count": 8,
   "id": "30ff8288-84c3-4cc2-85d5-7b799c424b1c",
   "metadata": {},
   "outputs": [
    {
     "name": "stdout",
     "output_type": "stream",
     "text": [
      "Control group size: 10000\n",
      "Treatment group size: 10000\n"
     ]
    }
   ],
   "source": [
    "# Check the population size for each group\n",
    "control_size = len(df[df['Variant'] == 'A'])\n",
    "treatment_size = len(df[df['Variant'] == 'B'])\n",
    "\n",
    "print(f\"Control group size: {control_size}\")\n",
    "print(f\"Treatment group size: {treatment_size}\")"
   ]
  },
  {
   "cell_type": "code",
   "execution_count": 9,
   "id": "c24e3f96-311f-4d53-8b67-1b3cc5583d32",
   "metadata": {},
   "outputs": [
    {
     "data": {
      "text/plain": [
       "Variant\n",
       "A    270\n",
       "B    422\n",
       "Name: Conversions, dtype: int64"
      ]
     },
     "execution_count": 9,
     "metadata": {},
     "output_type": "execute_result"
    }
   ],
   "source": [
    "conversion_rates = df.groupby('Variant')['Conversions'].sum() # Calculating the total conversions for each variant\n",
    "conversion_rates"
   ]
  },
  {
   "cell_type": "code",
   "execution_count": 10,
   "id": "c78b4efa-f1f4-40b2-8561-474b8ddeeee9",
   "metadata": {},
   "outputs": [],
   "source": [
    "# Calculating the mean conversions for each variant\n",
    "mean_A = conversion_rates['A']\n",
    "mean_B = conversion_rates['B']\n",
    "# Calculating the standard deviations for each variant\n",
    "std_A = df[df['Variant']=='A']['Conversions'].std()\n",
    "std_B = df[df['Variant']=='B']['Conversions'].std()\n"
   ]
  },
  {
   "cell_type": "markdown",
   "id": "ab27dea9-95b7-4b79-b974-a0c2915ed325",
   "metadata": {},
   "source": [
    "### Sampling\n",
    "\n",
    "Now that our DataFrame is nice and clean, we can proceed and sample `n=2494` entries for each of the groups. We can use pandas' `DataFrame.sample()` method to do this, which will perform Simple Random Sampling for us. \n",
    "\n",
    "**Note**: I've set `random_state=22` so that the results are reproducible if you feel like following on your own Notebook: just use `random_state=22` in your function and you should get the same sample as I did."
   ]
  },
  {
   "cell_type": "code",
   "execution_count": 11,
   "id": "38d34558-a17a-41f8-a37a-e4303c1f4a9e",
   "metadata": {},
   "outputs": [
    {
     "data": {
      "text/html": [
       "<div>\n",
       "<style scoped>\n",
       "    .dataframe tbody tr th:only-of-type {\n",
       "        vertical-align: middle;\n",
       "    }\n",
       "\n",
       "    .dataframe tbody tr th {\n",
       "        vertical-align: top;\n",
       "    }\n",
       "\n",
       "    .dataframe thead th {\n",
       "        text-align: right;\n",
       "    }\n",
       "</style>\n",
       "<table border=\"1\" class=\"dataframe\">\n",
       "  <thead>\n",
       "    <tr style=\"text-align: right;\">\n",
       "      <th></th>\n",
       "      <th>User_ID</th>\n",
       "      <th>Variant</th>\n",
       "      <th>Clicks</th>\n",
       "      <th>Conversions</th>\n",
       "    </tr>\n",
       "  </thead>\n",
       "  <tbody>\n",
       "    <tr>\n",
       "      <th>0</th>\n",
       "      <td>9150</td>\n",
       "      <td>A</td>\n",
       "      <td>5</td>\n",
       "      <td>0</td>\n",
       "    </tr>\n",
       "    <tr>\n",
       "      <th>1</th>\n",
       "      <td>926</td>\n",
       "      <td>A</td>\n",
       "      <td>4</td>\n",
       "      <td>0</td>\n",
       "    </tr>\n",
       "    <tr>\n",
       "      <th>2</th>\n",
       "      <td>7648</td>\n",
       "      <td>A</td>\n",
       "      <td>9</td>\n",
       "      <td>0</td>\n",
       "    </tr>\n",
       "    <tr>\n",
       "      <th>3</th>\n",
       "      <td>5625</td>\n",
       "      <td>A</td>\n",
       "      <td>8</td>\n",
       "      <td>0</td>\n",
       "    </tr>\n",
       "    <tr>\n",
       "      <th>4</th>\n",
       "      <td>9902</td>\n",
       "      <td>A</td>\n",
       "      <td>19</td>\n",
       "      <td>0</td>\n",
       "    </tr>\n",
       "    <tr>\n",
       "      <th>...</th>\n",
       "      <td>...</td>\n",
       "      <td>...</td>\n",
       "      <td>...</td>\n",
       "      <td>...</td>\n",
       "    </tr>\n",
       "    <tr>\n",
       "      <th>4983</th>\n",
       "      <td>13965</td>\n",
       "      <td>B</td>\n",
       "      <td>17</td>\n",
       "      <td>0</td>\n",
       "    </tr>\n",
       "    <tr>\n",
       "      <th>4984</th>\n",
       "      <td>18520</td>\n",
       "      <td>B</td>\n",
       "      <td>14</td>\n",
       "      <td>1</td>\n",
       "    </tr>\n",
       "    <tr>\n",
       "      <th>4985</th>\n",
       "      <td>16486</td>\n",
       "      <td>B</td>\n",
       "      <td>12</td>\n",
       "      <td>0</td>\n",
       "    </tr>\n",
       "    <tr>\n",
       "      <th>4986</th>\n",
       "      <td>12961</td>\n",
       "      <td>B</td>\n",
       "      <td>8</td>\n",
       "      <td>0</td>\n",
       "    </tr>\n",
       "    <tr>\n",
       "      <th>4987</th>\n",
       "      <td>14371</td>\n",
       "      <td>B</td>\n",
       "      <td>14</td>\n",
       "      <td>0</td>\n",
       "    </tr>\n",
       "  </tbody>\n",
       "</table>\n",
       "<p>4988 rows × 4 columns</p>\n",
       "</div>"
      ],
      "text/plain": [
       "      User_ID Variant  Clicks  Conversions\n",
       "0        9150       A       5            0\n",
       "1         926       A       4            0\n",
       "2        7648       A       9            0\n",
       "3        5625       A       8            0\n",
       "4        9902       A      19            0\n",
       "...       ...     ...     ...          ...\n",
       "4983    13965       B      17            0\n",
       "4984    18520       B      14            1\n",
       "4985    16486       B      12            0\n",
       "4986    12961       B       8            0\n",
       "4987    14371       B      14            0\n",
       "\n",
       "[4988 rows x 4 columns]"
      ]
     },
     "execution_count": 11,
     "metadata": {},
     "output_type": "execute_result"
    }
   ],
   "source": [
    "control_sample = df[df['Variant'] == 'A'].sample(n=n, random_state = 22)\n",
    "treatment_sample = df[df['Variant'] == 'B'].sample(n=n, random_state = 22)\n",
    "\n",
    "ab_test = pd.concat([control_sample, treatment_sample], axis = 0)\n",
    "ab_test.reset_index(drop=True, inplace= True)\n",
    "ab_test"
   ]
  },
  {
   "cell_type": "code",
   "execution_count": 12,
   "id": "a36d31db-6bfb-4caa-92f7-0703bf695977",
   "metadata": {},
   "outputs": [
    {
     "data": {
      "text/plain": [
       "Variant\n",
       "A    2494\n",
       "B    2494\n",
       "Name: count, dtype: int64"
      ]
     },
     "execution_count": 12,
     "metadata": {},
     "output_type": "execute_result"
    }
   ],
   "source": [
    "ab_test['Variant'].value_counts()"
   ]
  },
  {
   "cell_type": "markdown",
   "id": "13bcaeb0-2497-461f-a6a9-67cc0c6e3403",
   "metadata": {},
   "source": [
    "## 3. Visualising the results"
   ]
  },
  {
   "cell_type": "markdown",
   "id": "c4a58219-3666-4b4a-8f6d-73507b5575ff",
   "metadata": {},
   "source": [
    "The first thing we can do is to calculate some **basic statistics** to get an idea of what our samples look like."
   ]
  },
  {
   "cell_type": "code",
   "execution_count": 13,
   "id": "ceeecd7a-3ad9-49f0-9752-bf012b95cbba",
   "metadata": {},
   "outputs": [
    {
     "name": "stderr",
     "output_type": "stream",
     "text": [
      "C:\\Users\\HP\\AppData\\Local\\Temp\\ipykernel_14344\\1541487363.py:6: FutureWarning: The provided callable <function mean at 0x0000020E7C395E40> is currently using SeriesGroupBy.mean. In a future version of pandas, the provided callable will be used directly. To keep current behavior pass the string \"mean\" instead.\n",
      "  conversion_rates = conversion_rates.agg([np.mean,std_p,se_p])\n"
     ]
    },
    {
     "data": {
      "text/html": [
       "<style type=\"text/css\">\n",
       "</style>\n",
       "<table id=\"T_c31e9\">\n",
       "  <thead>\n",
       "    <tr>\n",
       "      <th class=\"blank level0\" >&nbsp;</th>\n",
       "      <th id=\"T_c31e9_level0_col0\" class=\"col_heading level0 col0\" >conversion_rate</th>\n",
       "      <th id=\"T_c31e9_level0_col1\" class=\"col_heading level0 col1\" >std_deviation</th>\n",
       "      <th id=\"T_c31e9_level0_col2\" class=\"col_heading level0 col2\" >std_error</th>\n",
       "    </tr>\n",
       "    <tr>\n",
       "      <th class=\"index_name level0\" >Variant</th>\n",
       "      <th class=\"blank col0\" >&nbsp;</th>\n",
       "      <th class=\"blank col1\" >&nbsp;</th>\n",
       "      <th class=\"blank col2\" >&nbsp;</th>\n",
       "    </tr>\n",
       "  </thead>\n",
       "  <tbody>\n",
       "    <tr>\n",
       "      <th id=\"T_c31e9_level0_row0\" class=\"row_heading level0 row0\" >A</th>\n",
       "      <td id=\"T_c31e9_row0_col0\" class=\"data row0 col0\" >0.025</td>\n",
       "      <td id=\"T_c31e9_row0_col1\" class=\"data row0 col1\" >0.156</td>\n",
       "      <td id=\"T_c31e9_row0_col2\" class=\"data row0 col2\" >0.003</td>\n",
       "    </tr>\n",
       "    <tr>\n",
       "      <th id=\"T_c31e9_level0_row1\" class=\"row_heading level0 row1\" >B</th>\n",
       "      <td id=\"T_c31e9_row1_col0\" class=\"data row1 col0\" >0.043</td>\n",
       "      <td id=\"T_c31e9_row1_col1\" class=\"data row1 col1\" >0.203</td>\n",
       "      <td id=\"T_c31e9_row1_col2\" class=\"data row1 col2\" >0.004</td>\n",
       "    </tr>\n",
       "  </tbody>\n",
       "</table>\n"
      ],
      "text/plain": [
       "<pandas.io.formats.style.Styler at 0x20e0783ecf0>"
      ]
     },
     "execution_count": 13,
     "metadata": {},
     "output_type": "execute_result"
    }
   ],
   "source": [
    "conversion_rates = ab_test.groupby('Variant')['Conversions']\n",
    "\n",
    "std_p = lambda x : np.std(x,ddof=0)              # Std. deviation of the proportion\n",
    "se_p = lambda x : stats.sem(x,ddof=0)            # Std. error of the proportion (std / sqrt(n))\n",
    "\n",
    "conversion_rates = conversion_rates.agg([np.mean,std_p,se_p])\n",
    "conversion_rates.columns = ['conversion_rate', 'std_deviation', 'std_error']\n",
    "\n",
    "conversion_rates.style.format('{:.3f}')"
   ]
  },
  {
   "cell_type": "markdown",
   "id": "2df42815-e85c-4aa6-8986-513819dc7717",
   "metadata": {},
   "source": [
    " Judging by the stats above, it does look like our **two designs performed more or less as expected**, with our new design performing better, approx. **2.5% vs. 4.3% conversion rate**."
   ]
  },
  {
   "cell_type": "markdown",
   "id": "afe92be6-a513-4952-9e84-a6e40ebcadf9",
   "metadata": {},
   "source": [
    "Plotting the data will make these results easier to grasp:"
   ]
  },
  {
   "cell_type": "code",
   "execution_count": 14,
   "id": "227b4e11-9f44-44d8-8ca8-f2591aea9c52",
   "metadata": {},
   "outputs": [
    {
     "name": "stderr",
     "output_type": "stream",
     "text": [
      "C:\\Users\\HP\\AppData\\Local\\Temp\\ipykernel_14344\\334287315.py:3: FutureWarning: \n",
      "\n",
      "The `ci` parameter is deprecated. Use `errorbar=('ci', False)` for the same effect.\n",
      "\n",
      "  sns.barplot(x=ab_test['Variant'], y=ab_test['Conversions'], ci=False)\n"
     ]
    },
    {
     "data": {
      "image/png": "[encoded data removed]",
      "text/plain": [
       "<Figure size 800x600 with 1 Axes>"
      ]
     },
     "metadata": {},
     "output_type": "display_data"
    }
   ],
   "source": [
    "plt.figure(figsize=(8,6))\n",
    "\n",
    "sns.barplot(x=ab_test['Variant'], y=ab_test['Conversions'], ci=False)\n",
    "\n",
    "plt.ylim(0, 0.07)\n",
    "plt.title('Conversions rate by Variants', pad=20)\n",
    "plt.xlabel('Variants', labelpad=15)\n",
    "plt.ylabel('Conversions (proportion)', labelpad=15)\n",
    "# Save the plot using plt\n",
    "plt.savefig('temp.png', dpi=300)\n",
    "\n",
    "# Display the plot\n",
    "plt.show()\n"
   ]
  },
  {
   "cell_type": "markdown",
   "id": "a0cce733-c357-4cbe-9eb6-ac4f8c4d636e",
   "metadata": {},
   "source": [
    "The conversion rates for our groups are indeed very close. Also note that the conversion rate of the `control` group is lower than what we would have expected given what we knew about our avg. conversion rate (2.5% vs. 3.0%). \n",
    "In rea; case scenario this goes to show that there is some variation in results when sampling from a population.\n",
    "\n",
    "So... the `treatment` group's value is higher. **Is this difference *statistically significant***?"
   ]
  },
  {
   "cell_type": "markdown",
   "id": "a0302485-3a68-497a-9b20-a91deda6d2ab",
   "metadata": {},
   "source": [
    "***\n",
    "## 4. Testing the hypothesis"
   ]
  },
  {
   "cell_type": "markdown",
   "id": "c9ae9fe3-e09c-47a5-ac0a-40e3f2cb5f15",
   "metadata": {},
   "source": [
    "The last step of our analysis is testing our hypothesis. Since we have a very large sample, we can use the <a href=\"https://en.wikipedia.org/wiki/Binomial_proportion_confidence_interval#Normal_approximation_interval\">normal approximation</a> for calculating our $p$-value (i.e. z-test). \n",
    "\n",
    "Again, Python makes all the calculations very easy. We can use the `statsmodels.stats.proportion` module to get the $p$-value and confidence intervals:"
   ]
  },
  {
   "cell_type": "code",
   "execution_count": 15,
   "id": "6c9686cc-3663-4630-9b68-0495cdcce971",
   "metadata": {},
   "outputs": [],
   "source": [
    "from statsmodels.stats.proportion import proportions_ztest, proportion_confint"
   ]
  },
  {
   "cell_type": "code",
   "execution_count": 16,
   "id": "9946f996-6ae5-440f-84c4-a34d7f0a2b5a",
   "metadata": {},
   "outputs": [],
   "source": [
    "control_results = ab_test[ab_test['Variant'] == 'A']['Conversions']\n",
    "treatment_results = ab_test[ab_test['Variant'] == 'B']['Conversions']"
   ]
  },
  {
   "cell_type": "code",
   "execution_count": 17,
   "id": "dade8037-c0d8-4ae0-aaeb-ed8aa9b9a6b0",
   "metadata": {},
   "outputs": [
    {
     "name": "stdout",
     "output_type": "stream",
     "text": [
      "z statistic: -3.52\n",
      "p-value: 0.0004\n",
      "ci 95% for control group: [0.019, 0.031]\n",
      "ci 95% for treatment group: [0.035, 0.051]\n"
     ]
    }
   ],
   "source": [
    "n_con = control_results.count()\n",
    "n_treat = treatment_results.count()\n",
    "successes = [control_results.sum(), treatment_results.sum()]\n",
    "nobs = [n_con, n_treat]\n",
    "\n",
    "z_stat, pval = proportions_ztest(successes, nobs=nobs)\n",
    "(lower_con, lower_treat), (upper_con, upper_treat) = proportion_confint(successes, nobs=nobs, alpha=0.05)\n",
    "\n",
    "print(f'z statistic: {z_stat:.2f}')\n",
    "print(f'p-value: {pval:.4f}')\n",
    "print(f'ci 95% for control group: [{lower_con:.3f}, {upper_con:.3f}]')\n",
    "print(f'ci 95% for treatment group: [{lower_treat:.3f}, {upper_treat:.3f}]')"
   ]
  },
  {
   "cell_type": "code",
   "execution_count": 18,
   "id": "53981290-1a7e-4b12-9eeb-b08e30182c4b",
   "metadata": {},
   "outputs": [
    {
     "data": {
      "image/png": "[encoded data removed]",
      "text/plain": [
       "<Figure size 800x500 with 1 Axes>"
      ]
     },
     "metadata": {},
     "output_type": "display_data"
    }
   ],
   "source": [
    "# Example data from your results\n",
    "variants = ['Control', 'Treatment']\n",
    "means = [control_results.sum() / n_con, treatment_results.sum() / n_treat]  # Conversion rates\n",
    "ci_lower = [lower_con, lower_treat]\n",
    "ci_upper = [upper_con, upper_treat]\n",
    "\n",
    "# Calculate the error bars (difference between the means and the confidence bounds)\n",
    "error_lower = [mean - lower for mean, lower in zip(means, ci_lower)]\n",
    "error_upper = [upper - mean for upper, mean in zip(ci_upper, means)]\n",
    "\n",
    "# Plot the confidence intervals\n",
    "plt.figure(figsize=(8, 5))\n",
    "plt.bar(variants, means, color='skyblue', yerr=[error_lower, error_upper], capsize=5, alpha=0.8)\n",
    "plt.title('Confidence Intervals for Conversion Rates')\n",
    "plt.ylabel('Conversion Rate')\n",
    "plt.xlabel('Variant')\n",
    "plt.grid(axis='y', linestyle='--', alpha=0.7)\n",
    "plt.ylim(0, max(ci_upper) + 0.05)  # Add some space above the largest upper bound\n",
    "\n",
    "# Save the plot\n",
    "plt.savefig('CI Comparison for Conversion Rates',dpi=300)\n",
    "\n",
    "# Display the plot\n",
    "plt.show()"
   ]
  },
  {
   "cell_type": "markdown",
   "id": "3c407f1f-b8dd-4ca8-a1a0-c4aa7242ca76",
   "metadata": {},
   "source": [
    "The bar plot clearly highlights that the treatment group's variant performed better as well as the **confidence intervals for control and treatment are not overlapping**. This indicates that the observed difference is **statistically significant**, meaning the results are not due to random chance."
   ]
  },
  {
   "cell_type": "code",
   "execution_count": 19,
   "id": "4d10d93c-7af3-45f1-88e6-29df14414f96",
   "metadata": {},
   "outputs": [
    {
     "data": {
      "image/png": "[encoded data removed]",
      "text/plain": [
       "<Figure size 1000x600 with 1 Axes>"
      ]
     },
     "metadata": {},
     "output_type": "display_data"
    }
   ],
   "source": [
    "variants = ['Control', 'Treatment']\n",
    "means = [0.025, 0.043]  # Example conversion rates for each group\n",
    "ci_lower =  [0.019, 0.031]  # Lower bounds of confidence intervals\n",
    "ci_upper = [0.035, 0.051]  # Upper bounds of confidence intervals\n",
    "dmin = 0.030  # Example baseline rate\n",
    "dmax = 0.045  # Example target rate\n",
    "\n",
    "# Plot the conversion rates with confidence intervals\n",
    "plt.figure(figsize=(10, 6))\n",
    "for i in range(len(variants)):\n",
    "    plt.plot([i, i], [ci_lower[i], ci_upper[i]], color='blue', alpha=0.7, label=None if i > 0 else 'Confidence Interval')\n",
    "    plt.scatter(i, means[i], color='blue', label=None if i > 0 else 'Mean Conversion Rate', zorder=5)\n",
    "\n",
    "# Highlight dmin and dmax as horizontal lines\n",
    "plt.axhline(dmin, color='red', linestyle='--', label='Baseline (dmin)', linewidth=1.5)\n",
    "plt.axhline(dmax, color='green', linestyle='--', label='Target (dmax)', linewidth=1.5)\n",
    "\n",
    "# Add labels, title, and legend\n",
    "plt.xticks(ticks=range(len(variants)), labels=variants)\n",
    "plt.title('Confidence Intervals with Baseline and Target Lines', fontsize=14)\n",
    "plt.ylabel('Conversion Rate', fontsize=12)\n",
    "plt.grid(axis='y', linestyle='--', alpha=0.5)\n",
    "plt.legend(loc='upper left')\n",
    "plt.ylim(0, max(ci_upper) + 0.01)  # Extend the y-axis for clarity\n",
    "\n",
    "# Save the plot\n",
    "plt.savefig('Baseline vs Target Lines(CI)',dpi=300)\n",
    "\n",
    "# Show the plot\n",
    "plt.show()"
   ]
  },
  {
   "cell_type": "markdown",
   "id": "08c2f066-fa01-4fa4-b24b-780dd4175663",
   "metadata": {},
   "source": [
    "Note that the in the **Control Group**:  \n",
    "- The mean conversion rate is slightly lower than **0.03** (baseline). \n",
    "- Conversion rate does not meet the target line **(dmax)**, but overlaps the baseline line \n",
    "**(dmin)**.\n",
    "\n",
    "\n",
    "Meanwhile in the - **Treatment Group**:\n",
    "- The mean conversion rate is noticeably higher, slightly above **0.04**, and closer to the target \n",
    "line **(dmax)**.\n",
    "- Confidence interval spans roughly from **0.035 to 0.05**—**without overlapping** the baseline.\n",
    "- This suggests improvement over the control group and a stronger alignment with the goal of \n",
    "reaching the target **(dmax)** conversion rate.\n",
    "\n",
    "\n",
    ">**Inference**:  The treatment group shows higher effectiveness in increasing conversion rates than the control \n",
    "group. While the results suggest improvement, the **no overlap** in confidence intervals means the statistical \n",
    "significance need not to be evaluated further. "
   ]
  },
  {
   "cell_type": "markdown",
   "id": "f2e50509-08db-411b-80ad-cb2121ee2a15",
   "metadata": {},
   "source": [
    "## 5. Conclusion\n",
    "Since our \n",
    "p-value=0.0004 is below our \n",
    "0.05, we can reject the null hypothesis \n",
    ", which means that our new design did perform significantly better than our old one \n",
    "\n",
    "Additionally, if we look at the confidence interval for the treatment group ([0.035, 0.051], i.e. 3.5-5.1%) we notice that:\n",
    "\n",
    "It doesn't include our baseline value of 3% conversion rate\n",
    "It includes our target value of 4.5% (the 1.5% uplift we were aiming for)\n",
    "What this means is that it is more likely that the true conversion rate of the new design is better than our baseline.\n",
    "This is further proof that our new design is likely to be an improvement on our old design."
   ]
  }
 ],
 "metadata": {
  "kernelspec": {
   "display_name": "Python 3 (ipykernel)",
   "language": "python",
   "name": "python3"
  },
  "language_info": {
   "codemirror_mode": {
    "name": "ipython",
    "version": 3
   },
   "file_extension": ".py",
   "mimetype": "text/x-python",
   "name": "python",
   "nbconvert_exporter": "python",
   "pygments_lexer": "ipython3",
   "version": "3.13.1"
  }
 },
 "nbformat": 4,
 "nbformat_minor": 5
}
